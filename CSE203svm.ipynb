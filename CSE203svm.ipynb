{
 "cells": [
  {
   "cell_type": "code",
   "execution_count": 1,
   "metadata": {},
   "outputs": [],
   "source": [
    "import sys\n",
    "import time\n",
    "import numpy as np\n",
    "import pickle\n",
    "from sklearn import model_selection, svm, preprocessing\n",
    "from sklearn.metrics import accuracy_score,confusion_matrix\n",
    "\n",
    "from matplotlib import style\n",
    "\n",
    "import matplotlib.pyplot as plt\n",
    "from torchvision.datasets import MNIST\n",
    "\n",
    "style.use('ggplot')"
   ]
  },
  {
   "cell_type": "code",
   "execution_count": 2,
   "metadata": {},
   "outputs": [],
   "source": []
  },
  {
   "cell_type": "code",
   "execution_count": 3,
   "metadata": {},
   "outputs": [
    {
     "name": "stderr",
     "output_type": "stream",
     "text": [
      "/usr/local/lib/python3.7/site-packages/torchvision/datasets/mnist.py:53: UserWarning: train_data has been renamed data\n",
      "  warnings.warn(\"train_data has been renamed data\")\n",
      "/usr/local/lib/python3.7/site-packages/torchvision/datasets/mnist.py:43: UserWarning: train_labels has been renamed targets\n",
      "  warnings.warn(\"train_labels has been renamed targets\")\n"
     ]
    },
    {
     "name": "stdout",
     "output_type": "stream",
     "text": [
      "label: 5\n",
      "shapes: (6000, 784) (6000,)\n"
     ]
    },
    {
     "data": {
      "image/png": "[encoded data removed]",
      "text/plain": [
       "<Figure size 432x288 with 1 Axes>"
      ]
     },
     "metadata": {
      "needs_background": "light"
     },
     "output_type": "display_data"
    }
   ],
   "source": [
    "mnist = MNIST('.', train = True, download=True)\n",
    "train_IMG = mnist.train_data.numpy().astype(float)\n",
    "train_LABELS = mnist.train_labels.numpy()\n",
    "\n",
    "plt.imshow(train_IMG[0])\n",
    "print('label:', train_LABELS[0])\n",
    "\n",
    "idx = np.random.permutation(len(train_IMG))[:n_samples]\n",
    "train_img = train_IMG[idx]\n",
    "train_labels = train_LABELS[idx]\n",
    "\n",
    "X_train = train_img.reshape((train_img.shape[0],-1)) \n",
    "y_train = train_labels\n",
    "print('shapes:', X_train.shape, y_train.shape)\n"
   ]
  },
  {
   "cell_type": "code",
   "execution_count": 4,
   "metadata": {},
   "outputs": [
    {
     "name": "stdout",
     "output_type": "stream",
     "text": [
      "label: 7\n",
      "shapes: (1500, 784) (1500,)\n"
     ]
    },
    {
     "data": {
      "image/png": "[encoded data removed]",
      "text/plain": [
       "<Figure size 432x288 with 1 Axes>"
      ]
     },
     "metadata": {
      "needs_background": "light"
     },
     "output_type": "display_data"
    }
   ],
   "source": [
    "mnist_test = MNIST('.', train = False, download=True)\n",
    "test_IMG = mnist_test.train_data.numpy().astype(float)\n",
    "test_LABELS = mnist_test.train_labels.numpy()\n",
    "\n",
    "plt.imshow(test_IMG [0])\n",
    "print('label:', test_LABELS[0])\n",
    "\n",
    "idx = np.random.permutation(len(test_IMG))[:1500]\n",
    "test_img = test_IMG[idx]\n",
    "test_labels = test_LABELS[idx]\n",
    "\n",
    "X_test = test_img.reshape((test_img.shape[0],-1)) \n",
    "y_test = test_labels\n",
    "print('shapes:', X_test.shape, y_test.shape)\n"
   ]
  },
  {
   "cell_type": "code",
   "execution_count": 5,
   "metadata": {
    "scrolled": false
   },
   "outputs": [
    {
     "name": "stdout",
     "output_type": "stream",
     "text": [
      "time elapsed: 10.340525\n",
      "\n",
      "Making Predictions on Test Data...\n",
      "\n",
      "Calculating Accuracy of Predictions...\n",
      "\n",
      "Creating Confusion Matrix...\n",
      "\n",
      "Predicted Values:  [9 8 0 ... 4 1 4]\n",
      "\n",
      "Accuracy of Classifier on Test Images:  0.9453333333333334\n",
      "\n",
      "Confusion Matrix: \n",
      " [[127   0   0   1   0   1   1   0   0   0]\n",
      " [  0 173   0   0   0   0   0   0   2   0]\n",
      " [  4   1 149   3   0   1   1   3   1   0]\n",
      " [  0   2   5 153   0   1   0   3   4   1]\n",
      " [  0   0   0   0 126   0   0   0   0   0]\n",
      " [  0   1   1   4   0 123   2   0   2   0]\n",
      " [  1   1   0   0   1   0 142   0   0   0]\n",
      " [  0   2   3   0   0   0   0 134   1   3]\n",
      " [  1   1   1   3   0   3   0   0 130   2]\n",
      " [  1   2   1   1   6   2   0   0   1 161]]\n"
     ]
    },
    {
     "data": {
      "image/png": "[encoded data removed]",
      "text/plain": [
       "<Figure size 288x288 with 2 Axes>"
      ]
     },
     "metadata": {
      "needs_background": "light"
     },
     "output_type": "display_data"
    }
   ],
   "source": [
    "start = time.time()\n",
    "\n",
    "clf = svm.SVC(gamma=0.1, kernel='poly')\n",
    "clf.fit(X_train,y_train)\n",
    "\n",
    "end = time.time()\n",
    "\n",
    "print(\"time elapsed: %f\" %(end-start))\n",
    "\n",
    "\n",
    "print('\\nMaking Predictions on Test Data...')\n",
    "y_pred = clf.predict(X_test)\n",
    "\n",
    "print('\\nCalculating Accuracy of Predictions...')\n",
    "accuracy = accuracy_score(y_test, y_pred)\n",
    "\n",
    "print('\\nCreating Confusion Matrix...')\n",
    "conf_mat = confusion_matrix(y_test,y_pred)\n",
    "\n",
    "print('\\nPredicted Values: ',y_pred)\n",
    "print('\\nAccuracy of Classifier on Test Images: ',accuracy)\n",
    "print('\\nConfusion Matrix: \\n',conf_mat)\n",
    "\n",
    "# Plot Confusion Matrix Data as a Matrix\n",
    "plt.matshow(conf_mat)\n",
    "plt.title('Confusion Matrix for Test Data')\n",
    "plt.colorbar()\n",
    "plt.ylabel('True label')\n",
    "plt.xlabel('Predicted label')\n",
    "plt.show()\n",
    "\n",
    "\n",
    "\n",
    "\n",
    "# Show the Test Images with Original and Predicted Labels\n",
    "# a = np.random.randint(1,40,15)\n",
    "# for i in a:\n",
    "# \ttwo_d = (np.reshape(test_img[i], (28, 28)) * 255).astype(np.uint8)\n",
    "# \tplt.title('Original Label: {0}  Predicted Label: {1}'.format(arr[test_labels[i]],arr[test_labels_pred[i]]))\n",
    "# \tplt.imshow(two_d, interpolation='nearest')\n",
    "# \tplt.show()\n",
    "#---------------------- EOC ---------------------#"
   ]
  },
  {
   "cell_type": "code",
   "execution_count": 6,
   "metadata": {},
   "outputs": [
    {
     "name": "stdout",
     "output_type": "stream",
     "text": [
      "time elapsed: 10.672570\n",
      "\n",
      "Accuracy of Classifier on Test Images:  0.9490000000000001\n"
     ]
    }
   ],
   "source": [
    "niter = 10\n",
    "timediff = 0\n",
    "avg_acc = 0\n",
    "\n",
    "for i in range(niter):\n",
    "    \n",
    "    idx = np.random.permutation(len(train_IMG))[:n_samples]\n",
    "    train_img = train_IMG[idx]\n",
    "    train_labels = train_LABELS[idx]\n",
    "    X_train = train_img.reshape((train_img.shape[0],-1)) \n",
    "    y_train = train_labels\n",
    "    \n",
    "    idx = np.random.permutation(len(test_IMG))[:1500]\n",
    "    test_img = test_IMG[idx]\n",
    "    test_labels = test_LABELS[idx]\n",
    "\n",
    "    X_test = test_img.reshape((test_img.shape[0],-1)) \n",
    "    y_test = test_labels\n",
    "    \n",
    "    \n",
    "    start = time.time()\n",
    "    clf = svm.SVC(gamma=0.1, kernel='poly')\n",
    "    clf.fit(X_train,y_train)\n",
    "    end = time.time()\n",
    "    timediff += end-start\n",
    "    \n",
    "    y_pred = clf.predict(X_test)\n",
    "    \n",
    "    avg_acc += accuracy_score(y_test, y_pred)\n",
    "\n",
    "print(\"time elapsed: %f\" %(timediff/niter))\n",
    "\n",
    "print('\\nAccuracy of Classifier on Test Images: ',avg_acc/niter)"
   ]
  },
  {
   "cell_type": "code",
   "execution_count": null,
   "metadata": {},
   "outputs": [],
   "source": []
  },
  {
   "cell_type": "code",
   "execution_count": null,
   "metadata": {},
   "outputs": [],
   "source": []
  }
 ],
 "metadata": {
  "kernelspec": {
   "display_name": "Python 3",
   "language": "python",
   "name": "python3"
  },
  "language_info": {
   "codemirror_mode": {
    "name": "ipython",
    "version": 3
   },
   "file_extension": ".py",
   "mimetype": "text/x-python",
   "name": "python",
   "nbconvert_exporter": "python",
   "pygments_lexer": "ipython3",
   "version": "3.7.4"
  }
 },
 "nbformat": 4,
 "nbformat_minor": 2
}
