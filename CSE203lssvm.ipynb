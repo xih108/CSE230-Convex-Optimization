{
 "cells": [
  {
   "cell_type": "code",
   "execution_count": 3,
   "metadata": {},
   "outputs": [],
   "source": [
    "import sys\n",
    "import time\n",
    "import numpy as np\n",
    "import pickle\n",
    "from sklearn import model_selection, svm, preprocessing\n",
    "from sklearn.metrics import accuracy_score,confusion_matrix\n",
    "from sklearn import model_selection, svm, preprocessing\n",
    "from matplotlib import style\n",
    "\n",
    "import matplotlib.pyplot as plt\n",
    "from torchvision.datasets import MNIST\n",
    "\n",
    "style.use('ggplot')"
   ]
  },
  {
   "cell_type": "code",
   "execution_count": 4,
   "metadata": {},
   "outputs": [],
   "source": [
    "n_samples = 6000"
   ]
  },
  {
   "cell_type": "code",
   "execution_count": 5,
   "metadata": {},
   "outputs": [
    {
     "name": "stderr",
     "output_type": "stream",
     "text": [
      "/usr/local/lib/python3.7/site-packages/torchvision/datasets/mnist.py:53: UserWarning: train_data has been renamed data\n",
      "  warnings.warn(\"train_data has been renamed data\")\n",
      "/usr/local/lib/python3.7/site-packages/torchvision/datasets/mnist.py:43: UserWarning: train_labels has been renamed targets\n",
      "  warnings.warn(\"train_labels has been renamed targets\")\n"
     ]
    },
    {
     "name": "stdout",
     "output_type": "stream",
     "text": [
      "label: 5\n",
      "shapes: (6000, 784) (6000,)\n"
     ]
    },
    {
     "data": {
      "image/png": "[encoded data removed]",
      "text/plain": [
       "<Figure size 432x288 with 1 Axes>"
      ]
     },
     "metadata": {},
     "output_type": "display_data"
    }
   ],
   "source": [
    "mnist = MNIST('.', train = True, download=True)\n",
    "train_IMG = mnist.train_data.numpy().astype(float)\n",
    "train_LABELS = mnist.train_labels.numpy()\n",
    "\n",
    "plt.imshow(train_IMG[0])\n",
    "print('label:', train_LABELS[0])\n",
    "\n",
    "idx = np.random.permutation(len(train_IMG))[:n_samples]\n",
    "train_img = train_IMG[idx]\n",
    "train_labels = train_LABELS[idx]\n",
    "\n",
    "X_train = train_img.reshape((train_img.shape[0],-1)) \n",
    "y_train = train_labels\n",
    "print('shapes:', X_train.shape, y_train.shape)\n"
   ]
  },
  {
   "cell_type": "code",
   "execution_count": 6,
   "metadata": {},
   "outputs": [
    {
     "name": "stdout",
     "output_type": "stream",
     "text": [
      "label: 7\n",
      "shapes: (1500, 784) (1500,)\n"
     ]
    },
    {
     "data": {
      "image/png": "[encoded data removed]",
      "text/plain": [
       "<Figure size 432x288 with 1 Axes>"
      ]
     },
     "metadata": {},
     "output_type": "display_data"
    }
   ],
   "source": [
    "mnist_test = MNIST('.', train = False, download=True)\n",
    "test_IMG = mnist_test.train_data.numpy().astype(float)\n",
    "test_LABELS = mnist_test.train_labels.numpy()\n",
    "\n",
    "plt.imshow(test_IMG [0])\n",
    "print('label:', test_LABELS[0])\n",
    "\n",
    "idx = np.random.permutation(len(test_IMG))[:1500]\n",
    "test_img = test_IMG[idx]\n",
    "test_labels = test_LABELS[idx]\n",
    "\n",
    "X_test = test_img.reshape((test_img.shape[0],-1)) \n",
    "y_test = test_labels\n",
    "print('shapes:', X_test.shape, y_test.shape)\n"
   ]
  },
  {
   "cell_type": "code",
   "execution_count": 8,
   "metadata": {},
   "outputs": [],
   "source": [
    "def preprocess(gamma, X_train, Y, kernel = \"LINEAR\"):\n",
    "    if kernel == \"LINEAR\":\n",
    "        Q = np.array(X_train) @ np.array(X_train).T\n",
    "    else:\n",
    "        c = 0\n",
    "        d = 3\n",
    "        Q = np.power((np.dot(X_train,X_train.T) + c),d)\n",
    "    matrix = Q + 1/gamma * np.identity(Q.shape[0])\n",
    "    vec1 = np.array([[1]*Q.shape[0]])\n",
    "    vec2 = np.array([[1]*Q.shape[0]+[0]])\n",
    "    matrix = np.concatenate((matrix, vec1.T), axis = 1)\n",
    "    matrix = np.concatenate((matrix, (vec2)))\n",
    "    Y_train = np.array([[ int(i==j) for i in range(10)] for j in y_train])\n",
    "    Y = np.concatenate((Y_train, np.array([[0]*10])))\n",
    "    \n",
    "    return matrix\n",
    "\n",
    "def train(matrix, Y):\n",
    "    # Q = pairwise.linear_kernel(X_train, X_train, dense_output=False) \n",
    "    res = np.linalg.solve(matrix, Y)\n",
    "    \n",
    "    return res"
   ]
  },
  {
   "cell_type": "code",
   "execution_count": 9,
   "metadata": {},
   "outputs": [],
   "source": [
    "def predict(X_train,X_test,alpha,b, kernel = \"LINEAR\"):\n",
    "    if kernel == \"LINEAR\":\n",
    "        w = X_train.T @ alpha\n",
    "        f = b + X_test @ w\n",
    "    else:\n",
    "        c = 0.0\n",
    "        d = 3\n",
    "        f = np.power((np.dot(X_test,X_train.T) + c),d) @alpha\n",
    "    y_pred = np.argmax(f, axis = 1)\n",
    "    \n",
    "    return y_pred"
   ]
  },
  {
   "cell_type": "code",
   "execution_count": 7,
   "metadata": {},
   "outputs": [],
   "source": [
    "Y_train = np.array([[ int(i==j) for i in range(10)] for j in y_train])\n",
    "Y = np.concatenate((Y_train, np.array([[0]*10])))"
   ]
  },
  {
   "cell_type": "code",
   "execution_count": 8,
   "metadata": {},
   "outputs": [
    {
     "name": "stdout",
     "output_type": "stream",
     "text": [
      "time elapsed: 3.579762\n",
      "\n",
      "Creating Confusion Matrix...\n",
      "\n",
      "Predicted Values:  [6 2 8 ... 9 9 3]\n",
      "\n",
      "Accuracy of Classifier on Test Images:  0.9573333333333334\n",
      "\n",
      "Confusion Matrix: \n",
      " [[167   0   0   0   0   1   2   1   1   0]\n",
      " [  0 167   2   2   0   0   1   0   1   0]\n",
      " [  0   0 136   2   2   1   1   2   2   0]\n",
      " [  0   0   0 158   0   2   0   2   1   2]\n",
      " [  0   0   0   0 139   0   1   0   1   0]\n",
      " [  1   0   0   3   1 118   2   1   0   0]\n",
      " [  1   0   0   0   1   0 145   1   0   0]\n",
      " [  0   0   2   2   0   0   0 148   0   4]\n",
      " [  0   0   0   3   0   1   0   0 133   2]\n",
      " [  0   1   0   1   4   1   2   0   0 125]]\n"
     ]
    },
    {
     "data": {
      "image/png": "[encoded data removed]",
      "text/plain": [
       "<Figure size 288x288 with 2 Axes>"
      ]
     },
     "metadata": {
      "needs_background": "light"
     },
     "output_type": "display_data"
    }
   ],
   "source": [
    "matrix = preprocess(0.1, X_train, Y,\"POLY\")\n",
    "\n",
    "start = time.time()\n",
    "res = train(matrix, Y)\n",
    "end = time.time()\n",
    "\n",
    "print(\"time elapsed: %f\" %(end-start))\n",
    "\n",
    "alpha = res[:n_samples] \n",
    "b = res[-1]\n",
    "\n",
    "y_pred = predict(X_train, X_test,alpha,b,\"POLY\")\n",
    "    \n",
    "accuracy = accuracy_score(y_test, y_pred)\n",
    "\n",
    "print('\\nCreating Confusion Matrix...')\n",
    "conf_mat = confusion_matrix(y_test,y_pred)\n",
    "\n",
    "print('\\nPredicted Values: ',y_pred)\n",
    "print('\\nAccuracy of Classifier on Test Images: ',accuracy)\n",
    "print('\\nConfusion Matrix: \\n',conf_mat)\n",
    "\n",
    "# Plot Confusion Matrix Data as a Matrix\n",
    "plt.matshow(conf_mat)\n",
    "plt.title('Confusion Matrix for Test Data')\n",
    "plt.colorbar()\n",
    "plt.ylabel('True label')\n",
    "plt.xlabel('Predicted label')\n",
    "plt.show()"
   ]
  },
  {
   "cell_type": "code",
   "execution_count": 15,
   "metadata": {},
   "outputs": [
    {
     "name": "stdout",
     "output_type": "stream",
     "text": [
      "1 45.770477056503296\n",
      "2 34.873536109924316\n",
      "1 31.00380802154541\n",
      "2 34.77439785003662\n",
      "1 33.69503378868103\n",
      "2 35.031168699264526\n",
      "1 42.44896697998047\n",
      "2 35.7386691570282\n",
      "1 29.94259786605835\n",
      "2 35.781343936920166\n",
      "1 37.29708123207092\n",
      "2 36.67079210281372\n",
      "1 30.3838849067688\n",
      "2 35.21885299682617\n",
      "1 30.69999408721924\n",
      "2 35.06502413749695\n",
      "1 33.185779094696045\n",
      "2 35.52101993560791\n",
      "1 30.965508222579956\n",
      "2 34.39999294281006\n",
      "time elapsed: 34.539313\n",
      "time elapsed: 35.307480\n",
      "\n",
      "Accuracy of Classifier on Test Images:  0.9749333333333332\n",
      "\n",
      "Accuracy of Classifier on Test Images:  0.9671333333333335\n"
     ]
    }
   ],
   "source": [
    "niter = 10\n",
    "timediff1 = 0\n",
    "timediff2 = 0\n",
    "avg_acc1 = 0\n",
    "avg_acc2 = 0\n",
    "n_samples = 15000\n",
    "\n",
    "for i in range(niter):\n",
    "    #train data\n",
    "    idx = np.random.permutation(len(train_IMG))[:n_samples]\n",
    "    train_img = train_IMG[idx]\n",
    "    train_labels = train_LABELS[idx]\n",
    "    X_train = train_img.reshape((train_img.shape[0],-1)) \n",
    "    y_train = train_labels\n",
    "    \n",
    "    #test data\n",
    "    idx = np.random.permutation(len(test_IMG))[:1500]\n",
    "    test_img = test_IMG[idx]\n",
    "    test_labels = test_LABELS[idx]\n",
    "\n",
    "    X_test = test_img.reshape((test_img.shape[0],-1)) \n",
    "    y_test = test_labels\n",
    "    \n",
    "    #lssvm\n",
    "    Y_train = np.array([[ int(i==j) for i in range(10)] for j in y_train])\n",
    "    Y = np.concatenate((Y_train, np.array([[0]*10])))\n",
    "    \n",
    "    matrix = preprocess(0.1, X_train, Y,\"POLY\")\n",
    "\n",
    "    start1 = time.time()\n",
    "    res = train(matrix, Y)\n",
    "    end1 = time.time()\n",
    "    timediff1 += end1-start1\n",
    "    print(\"1\", end1-start1)\n",
    "    \n",
    "    alpha = res[:n_samples] \n",
    "    b = res[-1]\n",
    "\n",
    "    y_pred = predict(X_train, X_test,alpha,b,\"POLY\")\n",
    "    \n",
    "    avg_acc1 += accuracy_score(y_test, y_pred)\n",
    "    \n",
    "    #svm\n",
    "    start2 = time.time()\n",
    "    clf = svm.SVC(gamma=0.1, kernel='poly')\n",
    "    clf.fit(X_train,y_train)\n",
    "    end2 = time.time()\n",
    "    timediff2 += end2-start2\n",
    "    print(\"2\", end2-start2)\n",
    "    y_pred = clf.predict(X_test)\n",
    "    \n",
    "    avg_acc2 += accuracy_score(y_test, y_pred)\n",
    "    \n",
    "\n",
    "print(\"time elapsed: %f\" %(timediff1/niter))\n",
    "\n",
    "print(\"time elapsed: %f\" %(timediff2/niter))\n",
    "\n",
    "print('\\nAccuracy of Classifier on Test Images: ',avg_acc1/niter)\n",
    "\n",
    "print('\\nAccuracy of Classifier on Test Images: ',avg_acc2/niter)"
   ]
  },
  {
   "cell_type": "code",
   "execution_count": null,
   "metadata": {},
   "outputs": [],
   "source": [
    "time elapsed: 2.374228\n",
    "time elapsed: 9.133228\n",
    "\n",
    "Accuracy of Classifier on Test Images:  0.9645999999999999\n",
    "\n",
    "Accuracy of Classifier on Test Images:  0.9494"
   ]
  },
  {
   "cell_type": "code",
   "execution_count": null,
   "metadata": {},
   "outputs": [],
   "source": [
    "time elapsed: 5.948020\n",
    "time elapsed: 14.797815\n",
    "\n",
    "Accuracy of Classifier on Test Images:  0.9712\n",
    "\n",
    "Accuracy of Classifier on Test Images:  0.9573333333333334"
   ]
  }
 ],
 "metadata": {
  "kernelspec": {
   "display_name": "Python 3",
   "language": "python",
   "name": "python3"
  },
  "language_info": {
   "codemirror_mode": {
    "name": "ipython",
    "version": 3
   },
   "file_extension": ".py",
   "mimetype": "text/x-python",
   "name": "python",
   "nbconvert_exporter": "python",
   "pygments_lexer": "ipython3",
   "version": "3.7.4"
  }
 },
 "nbformat": 4,
 "nbformat_minor": 2
}
